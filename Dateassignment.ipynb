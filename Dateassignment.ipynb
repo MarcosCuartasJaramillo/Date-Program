{
  "nbformat": 4,
  "nbformat_minor": 0,
  "metadata": {
    "colab": {
      "provenance": [],
      "authorship_tag": "ABX9TyPYQ22XXIdle7mUzBCRI4As",
      "include_colab_link": true
    },
    "kernelspec": {
      "name": "python3",
      "display_name": "Python 3"
    },
    "language_info": {
      "name": "python"
    }
  },
  "cells": [
    {
      "cell_type": "markdown",
      "metadata": {
        "id": "view-in-github",
        "colab_type": "text"
      },
      "source": [
        "<a href=\"https://colab.research.google.com/github/MarcosCuartasJaramillo/Dateassignment/blob/main/Dateassignment.ipynb\" target=\"_parent\"><img src=\"https://colab.research.google.com/assets/colab-badge.svg\" alt=\"Open In Colab\"/></a>"
      ]
    },
    {
      "cell_type": "code",
      "execution_count": 15,
      "metadata": {
        "colab": {
          "base_uri": "https://localhost:8080/"
        },
        "id": "FGSwQpvIwicX",
        "outputId": "6cb50a04-5e6b-4004-dff6-1417ba4c546d"
      },
      "outputs": [
        {
          "output_type": "stream",
          "name": "stdout",
          "text": [
            "Enter a date in mm/dd/yyyy form:02/21/2024\n",
            "02/21/2024\n",
            "02\n",
            "21\n",
            "2024\n"
          ]
        }
      ],
      "source": [
        "#inputdate\n",
        "date= str(input('Enter a date in mm/dd/yyyy form:' ))\n",
        "print(date)\n",
        "month=date[:2]\n",
        "print(month)\n",
        "day=date[3:5]\n",
        "print(day)\n",
        "year=date[6:]\n",
        "print(year)\n"
      ]
    }
  ]
}